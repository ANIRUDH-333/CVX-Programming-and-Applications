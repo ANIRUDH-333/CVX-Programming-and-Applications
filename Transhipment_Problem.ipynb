{
 "cells": [
  {
   "cell_type": "code",
   "execution_count": 2,
   "metadata": {},
   "outputs": [
    {
     "name": "stdout",
     "output_type": "stream",
     "text": [
      "[[450.]\n",
      " [  0.]\n",
      " [  0.]\n",
      " [600.]\n",
      " [250.]\n",
      " [  0.]\n",
      " [  0.]\n",
      " [300.]\n",
      " [  0.]\n",
      " [400.]\n",
      " [300.]\n",
      " [  0.]\n",
      " [300.]\n",
      " [  0.]]\n",
      "Total Cost = [11850.]\n"
     ]
    }
   ],
   "source": [
    "import numpy as np\n",
    "import cvxpy as cp\n",
    "\n",
    "c = np.array([4, 7, 8, 5, 5, 6, 6, 4, 8, 4, 3, 6, 7, 7])\n",
    "\n",
    "#Inequality Constraints\n",
    "Ai = np.zeros((3,14))\n",
    "Ai[0][0:2] = 1\n",
    "Ai[1][2:4] = 1\n",
    "Ai[2][4:6] = 1\n",
    "Bi = np.array([[450],[600],[380]])\n",
    "\n",
    "#Equality Constraints\n",
    "Ae = np.zeros((6,14))\n",
    "Ae[0][6] = 1\n",
    "Ae[0][10] = 1\n",
    "Ae[1][7] = 1\n",
    "Ae[1][11] = 1\n",
    "Ae[2][8] = 1\n",
    "Ae[2][12] = 1\n",
    "Ae[3][9] = 1\n",
    "Ae[3][13] = 1\n",
    "Ae[4][6:10] = 1\n",
    "Ae[4][0] = -1\n",
    "Ae[4][2] = -1\n",
    "Ae[4][4] = -1\n",
    "Ae[5][10:14] = 1\n",
    "Ae[5][1] = -1\n",
    "Ae[5][3] = -1\n",
    "Ae[5][5] = -1\n",
    "Be = np.array([[300],[300],[300],[400],[0],[0]])\n",
    "\n",
    "x = cp.Variable((14,1),integer=True)\n",
    "constraint = [(Ae @ x == Be), (Ai @ x <= Bi), x>=0]\n",
    "prob = cp.Problem(cp.Minimize(c@x),constraint)\n",
    "prob.solve()\n",
    "solution = x.value\n",
    "print(solution)\n",
    "x_values = solution[0:6]\n",
    "y_values = solution[6:]\n",
    "Total_cost = c@solution\n",
    "print(f'Total Cost = {Total_cost}')"
   ]
  }
 ],
 "metadata": {
  "interpreter": {
   "hash": "6dbeb2ed7a1efdf3e39686109bad1fdb64c6847a926a02fc48124403c3d9fd09"
  },
  "kernelspec": {
   "display_name": "Python 3.9.7 64-bit",
   "language": "python",
   "name": "python3"
  },
  "language_info": {
   "codemirror_mode": {
    "name": "ipython",
    "version": 3
   },
   "file_extension": ".py",
   "mimetype": "text/x-python",
   "name": "python",
   "nbconvert_exporter": "python",
   "pygments_lexer": "ipython3",
   "version": "3.9.7"
  },
  "orig_nbformat": 4
 },
 "nbformat": 4,
 "nbformat_minor": 2
}

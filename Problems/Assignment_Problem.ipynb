{
  "cells": [
    {
      "cell_type": "code",
      "execution_count": 1,
      "metadata": {
        "id": "dMdWykHY3Ch9"
      },
      "outputs": [
        {
          "name": "stdout",
          "output_type": "stream",
          "text": [
            "[1 2]\n",
            "[2 3]\n",
            "[3 1]\n"
          ]
        }
      ],
      "source": [
        "import numpy as np\n",
        "import cvxpy as cp\n",
        "\n",
        "c = np.array([10, 15, 9, 9, 18, 5, 6, 14, 3])\n",
        "N = 3\n",
        "Aeq = np.zeros((6,9))\n",
        "beq = np.array([[1], [1], [1], [1], [1], [1]])\n",
        "\n",
        "def couple2Index(i,j,N):\n",
        "  index = N*(i-1) + j\n",
        "  return index\n",
        "\n",
        "def index2couple(ind,N):\n",
        "  couple = np.array([0,0]) \n",
        "  couple[0] = np.ceil(ind/N)\n",
        "  couple[1] = ind - N*(couple[0] - 1)\n",
        "  return couple\n",
        "\n",
        "for k in range(1,N+1):\n",
        "  Aeq[k-1][couple2Index(1,k,N)-1] = 1;\n",
        "  Aeq[k-1][couple2Index(2,k,N)-1] = 1;\n",
        "  Aeq[k-1][couple2Index(3,k,N)-1] = 1;\n",
        "  Aeq[k+3-1][couple2Index(k,1,N)-1] = 1;\n",
        "  Aeq[k+3-1][couple2Index(k,2,N)-1] = 1;\n",
        "  Aeq[k+3-1][couple2Index(k,3,N)-1] = 1;\n",
        "\n",
        "x = cp.Variable((9,1),integer=True)\n",
        "constraint = [Aeq @ x == beq, x >= 0]\n",
        "prob = cp.Problem(cp.Minimize(c.T@x),constraints=constraint )\n",
        "prob.solve()\n",
        "x_values = x.value\n",
        "idx = np.where(x_values == 1)\n",
        "idx = idx[0]\n",
        "idx = idx + 1\n",
        "for i in range(3):\n",
        "   k = index2couple(idx[i],N)\n",
        "   print(k)"
      ]
    }
  ],
  "metadata": {
    "colab": {
      "collapsed_sections": [],
      "name": "AssignmentProblem",
      "provenance": []
    },
    "kernelspec": {
      "display_name": "Python 3",
      "name": "python3"
    },
    "language_info": {
      "codemirror_mode": {
        "name": "ipython",
        "version": 3
      },
      "file_extension": ".py",
      "mimetype": "text/x-python",
      "name": "python",
      "nbconvert_exporter": "python",
      "pygments_lexer": "ipython3",
      "version": "3.9.7"
    }
  },
  "nbformat": 4,
  "nbformat_minor": 0
}

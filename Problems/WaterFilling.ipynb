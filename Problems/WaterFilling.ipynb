{
  "cells": [
    {
      "cell_type": "code",
      "execution_count": 1,
      "metadata": {
        "id": "Bdap_eoR9VZ4"
      },
      "outputs": [
        {
          "name": "stdout",
          "output_type": "stream",
          "text": [
            "Status: optimal\n",
            "Optimal Communication Rate: 9.887510584669073\n",
            "Transmittng power:[19.99998454 11.99997953  8.00003557]\n"
          ]
        },
        {
          "data": {
            "text/plain": [
              "39.99999963974996"
            ]
          },
          "execution_count": 1,
          "metadata": {},
          "output_type": "execute_result"
        }
      ],
      "source": [
        "import numpy as np\n",
        "import cvxpy as cp\n",
        "\n",
        "def water_filling(n, a, sum_x):\n",
        "    \n",
        "    \n",
        "    x = cp.Variable(shape=n)\n",
        "    alpha = cp.Parameter(n, nonneg=True)\n",
        "    alpha.value = a\n",
        "\n",
        "   \n",
        "    obj = cp.Maximize(cp.sum(cp.log(alpha + x)))\n",
        "    \n",
        "    constraints = [x >= 0, cp.sum(x) - sum_x == 0]\n",
        "\n",
        "    prob = cp.Problem(obj, constraints)\n",
        "    prob.solve()\n",
        "    if(prob.status=='optimal'):\n",
        "        return prob.status, prob.value, x.value\n",
        "    else:\n",
        "        return prob.status, np.nan, np.nan\n",
        "\n",
        "\n",
        "alpha = np.array([7, 15, 19])\n",
        "bucket_size = np.size(alpha)\n",
        "stat, prob,x = water_filling(bucket_size,alpha,40)\n",
        "print(\"Status: \" + format(stat))\n",
        "print(\"Optimal Communication Rate: \"+ format(prob))\n",
        "print(\"Transmittng power:\"+format(x))\n",
        "np.sum(x)"
      ]
    }
  ],
  "metadata": {
    "colab": {
      "name": "WaterFilling",
      "provenance": []
    },
    "kernelspec": {
      "display_name": "Python 3",
      "name": "python3"
    },
    "language_info": {
      "codemirror_mode": {
        "name": "ipython",
        "version": 3
      },
      "file_extension": ".py",
      "mimetype": "text/x-python",
      "name": "python",
      "nbconvert_exporter": "python",
      "pygments_lexer": "ipython3",
      "version": "3.9.7"
    }
  },
  "nbformat": 4,
  "nbformat_minor": 0
}

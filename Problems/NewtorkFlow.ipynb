{
  "cells": [
    {
      "cell_type": "code",
      "execution_count": null,
      "metadata": {
        "colab": {
          "base_uri": "https://localhost:8080/"
        },
        "id": "KxVFcu6e5JBz",
        "outputId": "02c063a5-e519-46e8-cad3-766983addb56"
      },
      "outputs": [
        {
          "name": "stdout",
          "output_type": "stream",
          "text": [
            "Mounted at /content/drive\n"
          ]
        }
      ],
      "source": [
        "from google.colab import drive\n",
        "drive.mount('/content/drive')"
      ]
    },
    {
      "cell_type": "code",
      "execution_count": 1,
      "metadata": {
        "id": "pkT6jZ5Q6Xng"
      },
      "outputs": [
        {
          "name": "stdout",
          "output_type": "stream",
          "text": [
            "[0. 1. 0. 0. 0. 0. 2. 0. 0.]\n"
          ]
        }
      ],
      "source": [
        "import numpy as np\n",
        "import cvxpy as cp\n",
        "\n",
        "c = np.array([0.0, 1.0, 2.0, 3.0, 0.0, 1.0, 1.0, 5.0, 0.0])\n",
        "b = np.array([1.0, 1.0, -2.0])\n",
        "A = np.array([[0.0, 1.0, 1.0, -1.0, 0.0, 0.0, -1.0, 0.0, 0.0],[0.0, -1.0, 0.0, 1.0, 0.0, 1.0, 0.0, -1.0, 0.0],[0.0, 0.0, -1.0, 0.0, 0.0, -1.0, 1.0, 1.0, 0.0]])\n",
        "x = cp.Variable((9), integer=True)\n",
        "c = c.T\n",
        "constraints = [A@x == -b, x>=0]\n",
        "sol = cp.Problem(cp.Minimize(c@x),constraints)\n",
        "sol.solve()\n",
        "\n",
        "print(x.value)"
      ]
    }
  ],
  "metadata": {
    "colab": {
      "collapsed_sections": [],
      "name": "NewtorkFlow",
      "provenance": []
    },
    "kernelspec": {
      "display_name": "Python 3",
      "name": "python3"
    },
    "language_info": {
      "codemirror_mode": {
        "name": "ipython",
        "version": 3
      },
      "file_extension": ".py",
      "mimetype": "text/x-python",
      "name": "python",
      "nbconvert_exporter": "python",
      "pygments_lexer": "ipython3",
      "version": "3.9.7"
    }
  },
  "nbformat": 4,
  "nbformat_minor": 0
}

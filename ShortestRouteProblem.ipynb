{
  "cells": [
    {
      "cell_type": "code",
      "execution_count": 1,
      "metadata": {
        "id": "swuz95uAmzAf"
      },
      "outputs": [
        {
          "name": "stdout",
          "output_type": "stream",
          "text": [
            "[1 3]\n",
            "[2 4]\n",
            "[3 2]\n",
            "[4 6]\n"
          ]
        }
      ],
      "source": [
        "import numpy as np\n",
        "import cvxpy as cp\n",
        "\n",
        "d = np.array([[0, 25, 20, 0, 0, 0], [25, 0, 3, 5, 0, 14], [20, 3, 0, 0, 6, 0], [0, 5, 0, 0, 4, 4], [0, 0, 6, 4, 0, 7], [0, 14, 0, 4, 7, 0]])\n",
        "b = np.array([[1],[0],[0],[0],[0],[1]])\n",
        "\n",
        "def route2Index(i,j):\n",
        "  index = 6*(i-1) + j\n",
        "  return index\n",
        "\n",
        "def index2Route(Index):\n",
        "  route = np.array([0,0])\n",
        "  route[0] = np.ceil(Index/6)\n",
        "  route[1] = Index - 6*(route[0]-1)\n",
        "  return route\n",
        "\n",
        "A = np.zeros((6,36))\n",
        "\n",
        "#Source Constraints\n",
        "A[1-1][route2Index(1,2)-1] = 1\n",
        "A[1-1][route2Index(1,3)-1] = 1\n",
        "\n",
        "#Transhipment Constraints Node2\n",
        "A[2-1][route2Index(1,2)-1] = 1\n",
        "A[2-1][route2Index(3,2)-1] = 1\n",
        "A[2-1][route2Index(4,2)-1] = 1\n",
        "A[2-1][route2Index(2,3)-1] = -1\n",
        "A[2-1][route2Index(2,4)-1] = -1\n",
        "A[2-1][route2Index(2,6)-1] = -1\n",
        "\n",
        "#Transhipment Constraints Node3\n",
        "A[3-1][route2Index(1,3)-1] = 1\n",
        "A[3-1][route2Index(2,3)-1] = 1\n",
        "A[3-1][route2Index(5,3)-1] = 1\n",
        "A[3-1][route2Index(3,2)-1] = -1\n",
        "A[3-1][route2Index(3,5)-1] = -1\n",
        "\n",
        "#Transhipment Constraints Node4\n",
        "A[4-1][route2Index(2,4)-1] = 1\n",
        "A[4-1][route2Index(5,4)-1] = 1\n",
        "A[4-1][route2Index(4,2)-1] = -1\n",
        "A[4-1][route2Index(4,5)-1] = -1\n",
        "A[4-1][route2Index(4,6)-1] = -1\n",
        "\n",
        "#Transhipment Constraints Node5\n",
        "A[5-1][route2Index(3,5)-1] = 1\n",
        "A[5-1][route2Index(4,5)-1] = 1\n",
        "A[5-1][route2Index(5,3)-1] = -1\n",
        "A[5-1][route2Index(5,4)-1] = -1\n",
        "A[5-1][route2Index(5,6)-1] = -1\n",
        "\n",
        "#Destination Constraints\n",
        "A[6-1][route2Index(2,6)-1] = 1\n",
        "A[6-1][route2Index(4,6)-1] = 1\n",
        "A[6-1][route2Index(5,6)-1] = 1\n",
        "\n",
        "d = d.ravel()\n",
        "\n",
        "x = cp.Variable((36,1), integer=True)\n",
        "constraints = [A@x == b, x>=0]\n",
        "sol = cp.Problem(cp.Minimize(d@x),constraints)\n",
        "sol.solve()\n",
        "index = np.where(x.value == 1)\n",
        "index = index[0]\n",
        "\n",
        "for i in range(0,4):\n",
        "  print(index2Route(index[i]+1))"
      ]
    }
  ],
  "metadata": {
    "colab": {
      "collapsed_sections": [],
      "name": "ShortestRouteProblem",
      "provenance": []
    },
    "kernelspec": {
      "display_name": "Python 3",
      "name": "python3"
    },
    "language_info": {
      "codemirror_mode": {
        "name": "ipython",
        "version": 3
      },
      "file_extension": ".py",
      "mimetype": "text/x-python",
      "name": "python",
      "nbconvert_exporter": "python",
      "pygments_lexer": "ipython3",
      "version": "3.9.7"
    }
  },
  "nbformat": 4,
  "nbformat_minor": 0
}

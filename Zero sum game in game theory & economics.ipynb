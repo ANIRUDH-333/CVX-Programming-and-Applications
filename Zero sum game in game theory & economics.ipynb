{
 "cells": [
  {
   "cell_type": "code",
   "execution_count": 1,
   "metadata": {},
   "outputs": [
    {
     "data": {
      "text/plain": [
       "array([[-2.44716464e-11],\n",
       "       [ 5.38106106e-01],\n",
       "       [ 4.61893894e-01]])"
      ]
     },
     "execution_count": 1,
     "metadata": {},
     "output_type": "execute_result"
    }
   ],
   "source": [
    "import numpy as np\n",
    "import cvxpy as cp\n",
    "\n",
    "P = np.asarray([[30,-10,20] , [-10,20,-20]])\n",
    "f = np.asarray([1,0,0])\n",
    "A = np.asarray([0,1,1])\n",
    "b = np.ones((1,1))\n",
    "G = np.hstack((np.ones((3,1)) , P.T))\n",
    "h = np.zeros((3,1))\n",
    "lb = np.zeros((3,1))\n",
    "ub = 100*np.zeros((3,1))\n",
    "\n",
    "x = cp.Variable((3,1))\n",
    "\n",
    "\n",
    "constraints = [x>=0 , A@x==b, G@x >= h]\n",
    "prob = cp.Problem(cp.Minimize(f.T@x) , constraints)\n",
    "prob.solve()\n",
    "\n",
    "x.value"
   ]
  }
 ],
 "metadata": {
  "interpreter": {
   "hash": "6dbeb2ed7a1efdf3e39686109bad1fdb64c6847a926a02fc48124403c3d9fd09"
  },
  "kernelspec": {
   "display_name": "Python 3.9.7 64-bit",
   "language": "python",
   "name": "python3"
  },
  "language_info": {
   "codemirror_mode": {
    "name": "ipython",
    "version": 3
   },
   "file_extension": ".py",
   "mimetype": "text/x-python",
   "name": "python",
   "nbconvert_exporter": "python",
   "pygments_lexer": "ipython3",
   "version": "3.9.7"
  },
  "orig_nbformat": 4
 },
 "nbformat": 4,
 "nbformat_minor": 2
}
